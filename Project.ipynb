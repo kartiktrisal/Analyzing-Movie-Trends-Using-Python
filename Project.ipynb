{
 "cells": [
  {
   "cell_type": "code",
   "execution_count": 11,
   "id": "fcd400cb-d985-484f-a925-21c48c9d1e05",
   "metadata": {},
   "outputs": [],
   "source": [
    "import pandas as pd\n",
    "import numpy as np"
   ]
  },
  {
   "cell_type": "markdown",
   "id": "9ece81aa-35af-4ae9-b7a1-698b4c5a0ee6",
   "metadata": {},
   "source": [
    "# Data Reading"
   ]
  },
  {
   "cell_type": "code",
   "execution_count": 259,
   "id": "42c9c302-ac17-4121-aee9-c6244d8aaacc",
   "metadata": {},
   "outputs": [],
   "source": [
    "movies = pd.read_csv(\"/Users/iamktrisal/Downloads/ml-20m/movies.csv\")\n",
    "ratings = pd.read_csv(\"/Users/iamktrisal/Downloads/ml-20m/ratings.csv\")"
   ]
  },
  {
   "cell_type": "markdown",
   "id": "e6b7af60-4389-4696-8553-982d1e5992b2",
   "metadata": {},
   "source": [
    "# Getting Data Insights"
   ]
  },
  {
   "cell_type": "code",
   "execution_count": 272,
   "id": "207adc1f-43b0-4637-8de5-1d623956decf",
   "metadata": {},
   "outputs": [
    {
     "name": "stdout",
     "output_type": "stream",
     "text": [
      "<class 'pandas.core.frame.DataFrame'>\n",
      "RangeIndex: 27278 entries, 0 to 27277\n",
      "Data columns (total 3 columns):\n",
      " #   Column   Non-Null Count  Dtype \n",
      "---  ------   --------------  ----- \n",
      " 0   movieId  27278 non-null  int64 \n",
      " 1   title    27278 non-null  object\n",
      " 2   genres   27278 non-null  object\n",
      "dtypes: int64(1), object(2)\n",
      "memory usage: 639.5+ KB\n",
      "<class 'pandas.core.frame.DataFrame'>\n",
      "RangeIndex: 20000263 entries, 0 to 20000262\n",
      "Data columns (total 4 columns):\n",
      " #   Column     Dtype  \n",
      "---  ------     -----  \n",
      " 0   userId     int64  \n",
      " 1   movieId    int64  \n",
      " 2   rating     float64\n",
      " 3   timestamp  int64  \n",
      "dtypes: float64(1), int64(3)\n",
      "memory usage: 610.4 MB\n"
     ]
    }
   ],
   "source": [
    "movies.info()\n",
    "ratings.info()"
   ]
  },
  {
   "cell_type": "code",
   "execution_count": 247,
   "id": "b5608750-aad8-4190-a8b5-b0ccceef4ff1",
   "metadata": {},
   "outputs": [
    {
     "data": {
      "text/html": [
       "<div>\n",
       "<style scoped>\n",
       "    .dataframe tbody tr th:only-of-type {\n",
       "        vertical-align: middle;\n",
       "    }\n",
       "\n",
       "    .dataframe tbody tr th {\n",
       "        vertical-align: top;\n",
       "    }\n",
       "\n",
       "    .dataframe thead th {\n",
       "        text-align: right;\n",
       "    }\n",
       "</style>\n",
       "<table border=\"1\" class=\"dataframe\">\n",
       "  <thead>\n",
       "    <tr style=\"text-align: right;\">\n",
       "      <th></th>\n",
       "      <th>movieId</th>\n",
       "      <th>title</th>\n",
       "      <th>genres</th>\n",
       "      <th>genre_count</th>\n",
       "      <th>year</th>\n",
       "      <th>decade</th>\n",
       "    </tr>\n",
       "  </thead>\n",
       "  <tbody>\n",
       "    <tr>\n",
       "      <th>0</th>\n",
       "      <td>1</td>\n",
       "      <td>Toy Story (1995)</td>\n",
       "      <td>Adventure|Animation|Children|Comedy|Fantasy</td>\n",
       "      <td>5</td>\n",
       "      <td>1995</td>\n",
       "      <td>1990</td>\n",
       "    </tr>\n",
       "    <tr>\n",
       "      <th>1</th>\n",
       "      <td>2</td>\n",
       "      <td>Jumanji (1995)</td>\n",
       "      <td>Adventure|Children|Fantasy</td>\n",
       "      <td>3</td>\n",
       "      <td>1995</td>\n",
       "      <td>1990</td>\n",
       "    </tr>\n",
       "    <tr>\n",
       "      <th>2</th>\n",
       "      <td>3</td>\n",
       "      <td>Grumpier Old Men (1995)</td>\n",
       "      <td>Comedy|Romance</td>\n",
       "      <td>2</td>\n",
       "      <td>1995</td>\n",
       "      <td>1990</td>\n",
       "    </tr>\n",
       "    <tr>\n",
       "      <th>3</th>\n",
       "      <td>4</td>\n",
       "      <td>Waiting to Exhale (1995)</td>\n",
       "      <td>Comedy|Drama|Romance</td>\n",
       "      <td>3</td>\n",
       "      <td>1995</td>\n",
       "      <td>1990</td>\n",
       "    </tr>\n",
       "    <tr>\n",
       "      <th>4</th>\n",
       "      <td>5</td>\n",
       "      <td>Father of the Bride Part II (1995)</td>\n",
       "      <td>Comedy</td>\n",
       "      <td>1</td>\n",
       "      <td>1995</td>\n",
       "      <td>1990</td>\n",
       "    </tr>\n",
       "  </tbody>\n",
       "</table>\n",
       "</div>"
      ],
      "text/plain": [
       "   movieId                               title  \\\n",
       "0        1                    Toy Story (1995)   \n",
       "1        2                      Jumanji (1995)   \n",
       "2        3             Grumpier Old Men (1995)   \n",
       "3        4            Waiting to Exhale (1995)   \n",
       "4        5  Father of the Bride Part II (1995)   \n",
       "\n",
       "                                        genres  genre_count  year  decade  \n",
       "0  Adventure|Animation|Children|Comedy|Fantasy            5  1995    1990  \n",
       "1                   Adventure|Children|Fantasy            3  1995    1990  \n",
       "2                               Comedy|Romance            2  1995    1990  \n",
       "3                         Comedy|Drama|Romance            3  1995    1990  \n",
       "4                                       Comedy            1  1995    1990  "
      ]
     },
     "execution_count": 247,
     "metadata": {},
     "output_type": "execute_result"
    }
   ],
   "source": [
    "movies.head()"
   ]
  },
  {
   "cell_type": "code",
   "execution_count": 249,
   "id": "9347662c-0219-4d76-813f-df113cfca920",
   "metadata": {},
   "outputs": [
    {
     "data": {
      "text/html": [
       "<div>\n",
       "<style scoped>\n",
       "    .dataframe tbody tr th:only-of-type {\n",
       "        vertical-align: middle;\n",
       "    }\n",
       "\n",
       "    .dataframe tbody tr th {\n",
       "        vertical-align: top;\n",
       "    }\n",
       "\n",
       "    .dataframe thead th {\n",
       "        text-align: right;\n",
       "    }\n",
       "</style>\n",
       "<table border=\"1\" class=\"dataframe\">\n",
       "  <thead>\n",
       "    <tr style=\"text-align: right;\">\n",
       "      <th></th>\n",
       "      <th>userId</th>\n",
       "      <th>movieId</th>\n",
       "      <th>rating</th>\n",
       "      <th>timestamp</th>\n",
       "    </tr>\n",
       "  </thead>\n",
       "  <tbody>\n",
       "    <tr>\n",
       "      <th>0</th>\n",
       "      <td>1</td>\n",
       "      <td>2</td>\n",
       "      <td>3.5</td>\n",
       "      <td>1112486027</td>\n",
       "    </tr>\n",
       "    <tr>\n",
       "      <th>1</th>\n",
       "      <td>1</td>\n",
       "      <td>29</td>\n",
       "      <td>3.5</td>\n",
       "      <td>1112484676</td>\n",
       "    </tr>\n",
       "    <tr>\n",
       "      <th>2</th>\n",
       "      <td>1</td>\n",
       "      <td>32</td>\n",
       "      <td>3.5</td>\n",
       "      <td>1112484819</td>\n",
       "    </tr>\n",
       "    <tr>\n",
       "      <th>3</th>\n",
       "      <td>1</td>\n",
       "      <td>47</td>\n",
       "      <td>3.5</td>\n",
       "      <td>1112484727</td>\n",
       "    </tr>\n",
       "    <tr>\n",
       "      <th>4</th>\n",
       "      <td>1</td>\n",
       "      <td>50</td>\n",
       "      <td>3.5</td>\n",
       "      <td>1112484580</td>\n",
       "    </tr>\n",
       "  </tbody>\n",
       "</table>\n",
       "</div>"
      ],
      "text/plain": [
       "   userId  movieId  rating   timestamp\n",
       "0       1        2     3.5  1112486027\n",
       "1       1       29     3.5  1112484676\n",
       "2       1       32     3.5  1112484819\n",
       "3       1       47     3.5  1112484727\n",
       "4       1       50     3.5  1112484580"
      ]
     },
     "execution_count": 249,
     "metadata": {},
     "output_type": "execute_result"
    }
   ],
   "source": [
    "ratings.head()"
   ]
  },
  {
   "cell_type": "markdown",
   "id": "76d81f18-a35c-496c-9c17-5772295fe09f",
   "metadata": {},
   "source": [
    "# Merging, Cleaning and Formatting the datasets  (merging on : \"movieId\")\n",
    "            "
   ]
  },
  {
   "cell_type": "code",
   "execution_count": 313,
   "id": "4627072c-046d-4aeb-8576-30709d4ac0b5",
   "metadata": {},
   "outputs": [
    {
     "data": {
      "text/html": [
       "<div>\n",
       "<style scoped>\n",
       "    .dataframe tbody tr th:only-of-type {\n",
       "        vertical-align: middle;\n",
       "    }\n",
       "\n",
       "    .dataframe tbody tr th {\n",
       "        vertical-align: top;\n",
       "    }\n",
       "\n",
       "    .dataframe thead th {\n",
       "        text-align: right;\n",
       "    }\n",
       "</style>\n",
       "<table border=\"1\" class=\"dataframe\">\n",
       "  <thead>\n",
       "    <tr style=\"text-align: right;\">\n",
       "      <th></th>\n",
       "      <th>movieId</th>\n",
       "      <th>title</th>\n",
       "      <th>genres</th>\n",
       "      <th>avg_rating</th>\n",
       "      <th>total_ratings</th>\n",
       "    </tr>\n",
       "  </thead>\n",
       "  <tbody>\n",
       "    <tr>\n",
       "      <th>0</th>\n",
       "      <td>1</td>\n",
       "      <td>Toy Story (1995)</td>\n",
       "      <td>Adventure|Animation|Children|Comedy|Fantasy</td>\n",
       "      <td>3.9</td>\n",
       "      <td>49695</td>\n",
       "    </tr>\n",
       "    <tr>\n",
       "      <th>1</th>\n",
       "      <td>2</td>\n",
       "      <td>Jumanji (1995)</td>\n",
       "      <td>Adventure|Children|Fantasy</td>\n",
       "      <td>3.2</td>\n",
       "      <td>22243</td>\n",
       "    </tr>\n",
       "    <tr>\n",
       "      <th>2</th>\n",
       "      <td>3</td>\n",
       "      <td>Grumpier Old Men (1995)</td>\n",
       "      <td>Comedy|Romance</td>\n",
       "      <td>3.2</td>\n",
       "      <td>12735</td>\n",
       "    </tr>\n",
       "    <tr>\n",
       "      <th>3</th>\n",
       "      <td>4</td>\n",
       "      <td>Waiting to Exhale (1995)</td>\n",
       "      <td>Comedy|Drama|Romance</td>\n",
       "      <td>2.9</td>\n",
       "      <td>2756</td>\n",
       "    </tr>\n",
       "    <tr>\n",
       "      <th>4</th>\n",
       "      <td>5</td>\n",
       "      <td>Father of the Bride Part II (1995)</td>\n",
       "      <td>Comedy</td>\n",
       "      <td>3.1</td>\n",
       "      <td>12161</td>\n",
       "    </tr>\n",
       "  </tbody>\n",
       "</table>\n",
       "</div>"
      ],
      "text/plain": [
       "   movieId                               title  \\\n",
       "0        1                    Toy Story (1995)   \n",
       "1        2                      Jumanji (1995)   \n",
       "2        3             Grumpier Old Men (1995)   \n",
       "3        4            Waiting to Exhale (1995)   \n",
       "4        5  Father of the Bride Part II (1995)   \n",
       "\n",
       "                                        genres  avg_rating  total_ratings  \n",
       "0  Adventure|Animation|Children|Comedy|Fantasy         3.9          49695  \n",
       "1                   Adventure|Children|Fantasy         3.2          22243  \n",
       "2                               Comedy|Romance         3.2          12735  \n",
       "3                         Comedy|Drama|Romance         2.9           2756  \n",
       "4                                       Comedy         3.1          12161  "
      ]
     },
     "execution_count": 313,
     "metadata": {},
     "output_type": "execute_result"
    }
   ],
   "source": [
    "# Perform an inner join on the movieId column\n",
    "merged_df = pd.merge(movies, ratings, on='movieId', how='inner')\n",
    "\n",
    "# Group by movieId and aggregate relevant columns\n",
    "grouped_df = merged_df.groupby('movieId').agg(\n",
    "    title=('title', 'first'),  # Keep the first title for each movieId\n",
    "    genres=('genres', 'first'),  # Keep the first genres for each movieId\n",
    "    avg_rating=('rating', 'mean'),  # Calculate the average rating\n",
    "    total_ratings=('rating', 'count')  # Count the total number of ratings\n",
    ").reset_index()\n",
    "\n",
    "# Display the result\n",
    "grouped_df.round(1).head()"
   ]
  },
  {
   "cell_type": "code",
   "execution_count": 315,
   "id": "c2c163ab-84ea-4f32-acf2-74d89add0dd7",
   "metadata": {},
   "outputs": [
    {
     "name": "stdout",
     "output_type": "stream",
     "text": [
      "False\n"
     ]
    }
   ],
   "source": [
    "# Check for any null values in the entire DataFrame\n",
    "print(grouped_df.isnull().values.any())"
   ]
  },
  {
   "cell_type": "code",
   "execution_count": 323,
   "id": "ffa1ea99-750c-4b32-9353-f12f50a0a865",
   "metadata": {},
   "outputs": [
    {
     "name": "stdout",
     "output_type": "stream",
     "text": [
      "Rows after removing \"no genres listed\": 26502\n"
     ]
    }
   ],
   "source": [
    "# Drop rows with \"no genres listed\" in grouped_df\n",
    "grouped_df = grouped_df[grouped_df['genres'] != '(no genres listed)']\n",
    "\n",
    "# Verify the updated DataFrame\n",
    "print(f'Rows after removing \"no genres listed\": {grouped_df.shape[0]}')"
   ]
  },
  {
   "cell_type": "code",
   "execution_count": 331,
   "id": "b27b2d4e-e323-4663-ba2d-de6a87741afe",
   "metadata": {},
   "outputs": [
    {
     "data": {
      "text/html": [
       "<div>\n",
       "<style scoped>\n",
       "    .dataframe tbody tr th:only-of-type {\n",
       "        vertical-align: middle;\n",
       "    }\n",
       "\n",
       "    .dataframe tbody tr th {\n",
       "        vertical-align: top;\n",
       "    }\n",
       "\n",
       "    .dataframe thead th {\n",
       "        text-align: right;\n",
       "    }\n",
       "</style>\n",
       "<table border=\"1\" class=\"dataframe\">\n",
       "  <thead>\n",
       "    <tr style=\"text-align: right;\">\n",
       "      <th></th>\n",
       "      <th>movieId</th>\n",
       "      <th>title</th>\n",
       "      <th>genres</th>\n",
       "      <th>avg_rating</th>\n",
       "      <th>total_ratings</th>\n",
       "    </tr>\n",
       "  </thead>\n",
       "  <tbody>\n",
       "    <tr>\n",
       "      <th>0</th>\n",
       "      <td>1</td>\n",
       "      <td>Toy Story (1995)</td>\n",
       "      <td>Adventure|Animation|Children|Comedy|Fantasy</td>\n",
       "      <td>3.921240</td>\n",
       "      <td>49695</td>\n",
       "    </tr>\n",
       "    <tr>\n",
       "      <th>1</th>\n",
       "      <td>2</td>\n",
       "      <td>Jumanji (1995)</td>\n",
       "      <td>Adventure|Children|Fantasy</td>\n",
       "      <td>3.211977</td>\n",
       "      <td>22243</td>\n",
       "    </tr>\n",
       "    <tr>\n",
       "      <th>2</th>\n",
       "      <td>3</td>\n",
       "      <td>Grumpier Old Men (1995)</td>\n",
       "      <td>Comedy|Romance</td>\n",
       "      <td>3.151040</td>\n",
       "      <td>12735</td>\n",
       "    </tr>\n",
       "    <tr>\n",
       "      <th>3</th>\n",
       "      <td>4</td>\n",
       "      <td>Waiting to Exhale (1995)</td>\n",
       "      <td>Comedy|Drama|Romance</td>\n",
       "      <td>2.861393</td>\n",
       "      <td>2756</td>\n",
       "    </tr>\n",
       "    <tr>\n",
       "      <th>4</th>\n",
       "      <td>5</td>\n",
       "      <td>Father of the Bride Part II (1995)</td>\n",
       "      <td>Comedy</td>\n",
       "      <td>3.064592</td>\n",
       "      <td>12161</td>\n",
       "    </tr>\n",
       "    <tr>\n",
       "      <th>...</th>\n",
       "      <td>...</td>\n",
       "      <td>...</td>\n",
       "      <td>...</td>\n",
       "      <td>...</td>\n",
       "      <td>...</td>\n",
       "    </tr>\n",
       "    <tr>\n",
       "      <th>26738</th>\n",
       "      <td>131252</td>\n",
       "      <td>Forklift Driver Klaus: The First Day on the Jo...</td>\n",
       "      <td>Comedy|Horror</td>\n",
       "      <td>4.000000</td>\n",
       "      <td>1</td>\n",
       "    </tr>\n",
       "    <tr>\n",
       "      <th>26739</th>\n",
       "      <td>131254</td>\n",
       "      <td>Kein Bund für's Leben (2007)</td>\n",
       "      <td>Comedy</td>\n",
       "      <td>4.000000</td>\n",
       "      <td>1</td>\n",
       "    </tr>\n",
       "    <tr>\n",
       "      <th>26740</th>\n",
       "      <td>131256</td>\n",
       "      <td>Feuer, Eis &amp; Dosenbier (2002)</td>\n",
       "      <td>Comedy</td>\n",
       "      <td>4.000000</td>\n",
       "      <td>1</td>\n",
       "    </tr>\n",
       "    <tr>\n",
       "      <th>26741</th>\n",
       "      <td>131258</td>\n",
       "      <td>The Pirates (2014)</td>\n",
       "      <td>Adventure</td>\n",
       "      <td>2.500000</td>\n",
       "      <td>1</td>\n",
       "    </tr>\n",
       "    <tr>\n",
       "      <th>26743</th>\n",
       "      <td>131262</td>\n",
       "      <td>Innocence (2014)</td>\n",
       "      <td>Adventure|Fantasy|Horror</td>\n",
       "      <td>4.000000</td>\n",
       "      <td>1</td>\n",
       "    </tr>\n",
       "  </tbody>\n",
       "</table>\n",
       "<p>26502 rows × 5 columns</p>\n",
       "</div>"
      ],
      "text/plain": [
       "       movieId                                              title  \\\n",
       "0            1                                   Toy Story (1995)   \n",
       "1            2                                     Jumanji (1995)   \n",
       "2            3                            Grumpier Old Men (1995)   \n",
       "3            4                           Waiting to Exhale (1995)   \n",
       "4            5                 Father of the Bride Part II (1995)   \n",
       "...        ...                                                ...   \n",
       "26738   131252  Forklift Driver Klaus: The First Day on the Jo...   \n",
       "26739   131254                       Kein Bund für's Leben (2007)   \n",
       "26740   131256                      Feuer, Eis & Dosenbier (2002)   \n",
       "26741   131258                                 The Pirates (2014)   \n",
       "26743   131262                                   Innocence (2014)   \n",
       "\n",
       "                                            genres  avg_rating  total_ratings  \n",
       "0      Adventure|Animation|Children|Comedy|Fantasy    3.921240          49695  \n",
       "1                       Adventure|Children|Fantasy    3.211977          22243  \n",
       "2                                   Comedy|Romance    3.151040          12735  \n",
       "3                             Comedy|Drama|Romance    2.861393           2756  \n",
       "4                                           Comedy    3.064592          12161  \n",
       "...                                            ...         ...            ...  \n",
       "26738                                Comedy|Horror    4.000000              1  \n",
       "26739                                       Comedy    4.000000              1  \n",
       "26740                                       Comedy    4.000000              1  \n",
       "26741                                    Adventure    2.500000              1  \n",
       "26743                     Adventure|Fantasy|Horror    4.000000              1  \n",
       "\n",
       "[26502 rows x 5 columns]"
      ]
     },
     "execution_count": 331,
     "metadata": {},
     "output_type": "execute_result"
    }
   ],
   "source": [
    "# Remove duplicates\n",
    "grouped_df.drop_duplicates()"
   ]
  },
  {
   "cell_type": "markdown",
   "id": "c19b8f79-2138-4f00-aec1-3700678b0cba",
   "metadata": {},
   "source": [
    "# QUESTION 1 : (Analysing the Movies dataset)\n"
   ]
  },
  {
   "cell_type": "markdown",
   "id": "4419005a-126f-455e-aff8-0145de7eeebb",
   "metadata": {},
   "source": [
    "### A) Number of unique movies associated with multiple genres\n",
    "###    B) Movie with max genres\n",
    "###    C) Distribution of movies across genres"
   ]
  },
  {
   "cell_type": "code",
   "execution_count": 453,
   "id": "916328ee-57db-4b13-9cf8-3edd3721cd7c",
   "metadata": {},
   "outputs": [
    {
     "name": "stdout",
     "output_type": "stream",
     "text": [
      "                 Genre  Number of Movies\n",
      "0                Drama             13344\n",
      "1               Comedy              8374\n",
      "2             Thriller              4178\n",
      "3              Romance              4127\n",
      "4               Action              3520\n",
      "5                Crime              2939\n",
      "6               Horror              2611\n",
      "7          Documentary              2471\n",
      "8            Adventure              2329\n",
      "9               Sci-Fi              1743\n",
      "10             Mystery              1514\n",
      "11             Fantasy              1412\n",
      "12                 War              1194\n",
      "13            Children              1139\n",
      "14             Musical              1036\n",
      "15           Animation              1027\n",
      "16             Western               676\n",
      "17           Film-Noir               330\n",
      "18  (no genres listed)               246\n",
      "19                IMAX               196\n",
      "Number of unique movies with multiple genres: 16449\n",
      "\n",
      "\n",
      "Movie with the Maximum Number of Genres: \n",
      "\n",
      "Movie ID: 81132\n",
      "Title: Rubber (2010)\n",
      "Genres: Action, Adventure, Comedy, Crime, Drama, Film-Noir, Horror, Mystery, Thriller, Western\n",
      "Number of Genres: 10\n",
      "--------------------------------------------------\n"
     ]
    },
    {
     "data": {
      "image/png": "[encoded data removed]",
      "text/plain": [
       "<Figure size 1000x600 with 1 Axes>"
      ]
     },
     "metadata": {},
     "output_type": "display_data"
    }
   ],
   "source": [
    "##### Number of unique movies associated with multiple genres\n",
    "\n",
    "# Step 1: Split the genres into individual categories\n",
    "genres_df = movies.assign(genres=movies['genres'].str.split('|')).explode('genres')\n",
    "\n",
    "# Step 2: Calculate the number of movies in each genre\n",
    "genre_summary = genres_df['genres'].value_counts().reset_index()\n",
    "genre_summary.columns = ['Genre', 'Number of Movies']\n",
    "\n",
    "# Step 3: Calculate the number of unique movies associated with multiple genres\n",
    "multiple_genres_count = genres_df.groupby('movieId').size()\n",
    "num_movies_with_multiple_genres = (multiple_genres_count > 1).sum()\n",
    "print(genre_summary)\n",
    "\n",
    "# Print the number of unique movies associated with multiple genres\n",
    "print(\"Number of unique movies with multiple genres:\", num_movies_with_multiple_genres)\n",
    "print(\"\\n\")\n",
    "\n",
    "##### Movie with max genres\n",
    "\n",
    "# Step 1: Create the `genre_count` column\n",
    "movies['genre_count'] = movies['genres'].str.split('|').apply(len)\n",
    "\n",
    "# Step 2: Find the maximum number of genres\n",
    "max_genre_count = movies['genre_count'].max()\n",
    "\n",
    "# Step 3: Filter movies with the maximum number of genres\n",
    "movies_with_most_genres = movies[movies['genre_count'] == max_genre_count]\n",
    "\n",
    "print(\"Movie with the Maximum Number of Genres: \\n\")\n",
    "for _, row in movies_with_most_genres.iterrows():\n",
    "    print(f\"Movie ID: {row['movieId']}\")\n",
    "    print(f\"Title: {row['title']}\")\n",
    "    print(f\"Genres: {', '.join(row['genres'].split('|'))}\")\n",
    "    print(f\"Number of Genres: {row['genre_count']}\")\n",
    "    print(\"-\" * 50)\n",
    "\n",
    "\n",
    "\n",
    "####### Distribution of movies across genres\n",
    "\n",
    "import matplotlib.pyplot as plt\n",
    "\n",
    "# Exclude \"(no genres listed)\"\n",
    "filtered_genre_summary = genre_summary[genre_summary['Genre'] != '(no genres listed)']\n",
    "\n",
    "# Plot the filtered data\n",
    "filtered_genre_summary.sort_values(by='Number of Movies', ascending=False).plot(\n",
    "    x='Genre', \n",
    "    y='Number of Movies', \n",
    "    kind='bar', \n",
    "    figsize=(10, 6), \n",
    "    title='Movies by Genre'\n",
    ")\n",
    "\n",
    "plt.xlabel('Genre')\n",
    "plt.ylabel('Number of Movies')\n",
    "plt.title('Movies by Genre')\n",
    "plt.show()\n"
   ]
  },
  {
   "cell_type": "markdown",
   "id": "81737d87-00e0-4520-9648-00fb4d70b0fc",
   "metadata": {},
   "source": [
    "### Output of the summary saved"
   ]
  },
  {
   "cell_type": "code",
   "execution_count": 457,
   "id": "d3939e0b-619c-49b4-be4a-1aad48f9df2d",
   "metadata": {},
   "outputs": [
    {
     "name": "stdout",
     "output_type": "stream",
     "text": [
      "Genre summary saved to 'genre_summary.csv'\n",
      "Movies with multiple genres saved to 'multiple_genres.csv'\n",
      "Movies with maximum genres saved to 'movies_with_max_genres.csv'\n",
      "\n",
      "All summaries have been saved successfully:\n",
      "1. Genre summary: 'genre_summary.csv'\n",
      "2. Movies with multiple genres: 'multiple_genres.csv'\n",
      "3. Movies with maximum genres: 'movies_with_max_genres.csv'\n"
     ]
    }
   ],
   "source": [
    "# Save Genre Summary\n",
    "genre_summary.to_csv('genre_summary.csv', index=False)\n",
    "print(\"Genre summary saved to 'genre_summary.csv'\")\n",
    "\n",
    "# Save Movies with Multiple Genres\n",
    "multiple_genres_data = pd.DataFrame({\n",
    "    'Description': ['Number of unique movies with multiple genres'],\n",
    "    'Value': [num_movies_with_multiple_genres]\n",
    "})\n",
    "multiple_genres_data.to_csv('multiple_genres.csv', index=False)\n",
    "print(\"Movies with multiple genres saved to 'multiple_genres.csv'\")\n",
    "\n",
    "# Save Movies with Maximum Genres\n",
    "movies_with_most_genres.to_csv('movies_with_max_genres.csv', index=False)\n",
    "print(\"Movies with maximum genres saved to 'movies_with_max_genres.csv'\")\n",
    "\n",
    "# Output Message\n",
    "print(\"\\nAll summaries have been saved successfully:\")\n",
    "print(\"1. Genre summary: 'genre_summary.csv'\")\n",
    "print(\"2. Movies with multiple genres: 'multiple_genres.csv'\")\n",
    "print(\"3. Movies with maximum genres: 'movies_with_max_genres.csv'\")"
   ]
  },
  {
   "cell_type": "markdown",
   "id": "8f4a6c92-4b39-4b19-abf3-e8685a3b24fc",
   "metadata": {},
   "source": [
    "# Question 2 :\n",
    "# Movies by Decade \n",
    "# Single Vs Multi-Genre movies by Decade"
   ]
  },
  {
   "cell_type": "code",
   "execution_count": 469,
   "id": "9cd241aa-5803-4559-a27a-0d537e169be5",
   "metadata": {},
   "outputs": [
    {
     "name": "stdout",
     "output_type": "stream",
     "text": [
      "Movies by Decade:\n",
      "     Decade  Number of Movies\n",
      "0     2000              7875\n",
      "1     2010              4871\n",
      "2     1990              4372\n",
      "3     1980              2654\n",
      "4     1970              2020\n",
      "5     1960              1661\n",
      "6     1950              1369\n",
      "7     1940              1067\n",
      "8     1930               929\n",
      "9     1920               319\n",
      "10    1910                97\n",
      "11    1890                14\n",
      "12    1900                 8\n",
      "\n",
      "\n",
      "Single-Genre vs Multi-Genre Movies by Decade:\n",
      "     decade  Single-Genre Movies  Multi-Genre Movies\n",
      "0     1890                   14                   0\n",
      "1     1900                    4                   4\n",
      "2     1910                   58                  39\n",
      "3     1920                  143                 176\n",
      "4     1930                  299                 630\n",
      "5     1940                  299                 768\n",
      "6     1950                  513                 856\n",
      "7     1960                  692                 969\n",
      "8     1970                  792                1228\n",
      "9     1980                 1059                1595\n",
      "10    1990                 1726                2646\n",
      "11    2000                 3010                4865\n",
      "12    2010                 2203                2668\n"
     ]
    }
   ],
   "source": [
    "####  Movies by decade : \n",
    "\n",
    "# Step 1: Extract the year from the title\n",
    "movies['year'] = movies['title'].str.extract(r'\\((\\d{4})\\)', expand=False)\n",
    "\n",
    "# Step 2: Categorize movies by decade\n",
    "movies['decade'] = (movies['year'].astype(float) // 10 * 10).astype('Int64')\n",
    "\n",
    "# Step 3: Summarize movies by decade\n",
    "movies_by_decade = movies['decade'].value_counts().reset_index()\n",
    "movies_by_decade.columns = ['Decade', 'Number of Movies']\n",
    "\n",
    "# Step 4: Prepare genres for summarization\n",
    "genres_df = movies.assign(genres=movies['genres'].str.split('|')).explode('genres')\n",
    "\n",
    "\n",
    "# Print results\n",
    "print(\"Movies by Decade:\\n\", movies_by_decade)\n",
    "print(\"\\n\")\n",
    "\n",
    "\n",
    "##### Calculate single-genre and multi-genre counts by decade :\n",
    "\n",
    "genre_type_ratio = movies.groupby('decade')['genre_count'].apply(\n",
    "    lambda x: pd.Series({\n",
    "        'Single-Genre Movies': (x == 1).sum(),\n",
    "        'Multi-Genre Movies': (x > 1).sum()\n",
    "    })\n",
    ").unstack().reset_index()\n",
    "\n",
    "print(\"Single-Genre vs Multi-Genre Movies by Decade:\\n\", genre_type_ratio)\n"
   ]
  },
  {
   "cell_type": "markdown",
   "id": "ea6284c9-6dc9-40ee-b22e-f529188015ed",
   "metadata": {},
   "source": [
    "### Output of the summary saved"
   ]
  },
  {
   "cell_type": "code",
   "execution_count": 471,
   "id": "ee0b5721-dca3-4f44-a4a4-b73358079c50",
   "metadata": {},
   "outputs": [
    {
     "name": "stdout",
     "output_type": "stream",
     "text": [
      "Movies by Decade summary saved to 'movies_by_decade.csv'\n",
      "Single-Genre vs Multi-Genre Movies by Decade saved to 'genre_type_ratio.csv'\n",
      "\n",
      "Files saved successfully:\n",
      "1. movies_by_decade.csv\n",
      "2. genre_type_ratio.csv\n"
     ]
    }
   ],
   "source": [
    "# Save Movies by Decade Summary\n",
    "movies_by_decade.to_csv('movies_by_decade.csv', index=False)\n",
    "print(\"Movies by Decade summary saved to 'movies_by_decade.csv'\")\n",
    "\n",
    "# Save Single-Genre vs Multi-Genre Movies by Decade\n",
    "genre_type_ratio.to_csv('genre_type_ratio.csv', index=False)\n",
    "print(\"Single-Genre vs Multi-Genre Movies by Decade saved to 'genre_type_ratio.csv'\")\n",
    "\n",
    "# Confirmation message\n",
    "print(\"\\nFiles saved successfully:\")\n",
    "print(\"1. movies_by_decade.csv\")\n",
    "print(\"2. genre_type_ratio.csv\")"
   ]
  },
  {
   "cell_type": "markdown",
   "id": "94210795-248c-4f8a-96f7-17da4dee7206",
   "metadata": {},
   "source": [
    "# Question 3  (Analysing Movies and Ratings datsets)"
   ]
  },
  {
   "cell_type": "markdown",
   "id": "6ad6d142-71ff-4bc4-9add-25041bf2aa9e",
   "metadata": {},
   "source": [
    "### \t1.\tGenres:\n",
    "\t•\tTotal movies produced in each genre.\n",
    "\t•\tAverage user ratings and total number of ratings for each genre.\n",
    "###\t2.\tDecades:\n",
    "\t•\tTotal movies released in each decade.\n",
    "\t•\tAverage user ratings and total number of ratings for movies from each decade.\n"
   ]
  },
  {
   "cell_type": "code",
   "execution_count": 480,
   "id": "c2ac8b2b-f6ac-4acf-b6e9-949864813283",
   "metadata": {
    "scrolled": true
   },
   "outputs": [
    {
     "name": "stdout",
     "output_type": "stream",
     "text": [
      "Genre Comparison:\n",
      "       Genre  Total Movies  avg_rating  total_ratings\n",
      "0     Drama         13344         3.7        8857853\n",
      "1    Comedy          8374         3.4        7502234\n",
      "2  Thriller          4178         3.5        5313506\n",
      "3   Romance          4127         3.5        3802002\n",
      "4    Action          3520         3.4        5614208\n",
      "\n",
      "Decade Comparison:\n",
      "    Decade  Total Movies  avg_rating  total_ratings\n",
      "0    2000          7875         3.5        4780475\n",
      "1    2010          4871         3.6         501646\n",
      "2    1990          4372         3.4        8935220\n",
      "3    1980          2654         3.5        3005510\n",
      "4    1970          2020         3.8        1143995\n"
     ]
    }
   ],
   "source": [
    "\n",
    "# Step 1: Generate Summary Statistics for `movies` Dataset\n",
    "# Explode genres for genre-level statistics\n",
    "genres_df = movies.assign(genres=movies['genres'].str.split('|')).explode('genres')\n",
    "\n",
    "# Total movies by genre\n",
    "movies_per_genre = genres_df['genres'].value_counts().reset_index()\n",
    "movies_per_genre.columns = ['Genre', 'Total Movies']\n",
    "\n",
    "# Extract year and decade from the title\n",
    "movies['year'] = movies['title'].str.extract(r'\\((\\d{4})\\)', expand=False)\n",
    "movies['decade'] = (movies['year'].astype(float) // 10 * 10).astype('Int64')\n",
    "\n",
    "# Total movies by decade\n",
    "movies_per_decade = movies['decade'].value_counts().reset_index()\n",
    "movies_per_decade.columns = ['Decade', 'Total Movies']\n",
    "\n",
    "# Step 2: Generate Summary Statistics for `ratings` Dataset\n",
    "# Average ratings by genre\n",
    "ratings_by_genre = pd.merge(ratings, genres_df, on='movieId', how='inner')\n",
    "avg_rating_by_genre = ratings_by_genre.groupby('genres').agg(\n",
    "    avg_rating=('rating', 'mean'),\n",
    "    total_ratings=('rating', 'count')\n",
    ").reset_index()\n",
    "\n",
    "# Average ratings by decade\n",
    "ratings_by_decade = pd.merge(ratings, movies, on='movieId', how='inner')\n",
    "avg_rating_by_decade = ratings_by_decade.groupby('decade').agg(\n",
    "    avg_rating=('rating', 'mean'),\n",
    "    total_ratings=('rating', 'count')\n",
    ").reset_index()\n",
    "\n",
    "# Step 3: Compare Summaries\n",
    "# Merge genre summaries for comparison and remove duplicate column\n",
    "genre_comparison = pd.merge(\n",
    "    movies_per_genre, \n",
    "    avg_rating_by_genre, \n",
    "    left_on='Genre', \n",
    "    right_on='genres', \n",
    "    how='inner'\n",
    ").drop(columns=['genres'])\n",
    "\n",
    "# Merge decade summaries for comparison and remove duplicate column\n",
    "decade_comparison = pd.merge(\n",
    "    movies_per_decade, \n",
    "    avg_rating_by_decade, \n",
    "    left_on='Decade', \n",
    "    right_on='decade', \n",
    "    how='inner'\n",
    ").drop(columns=['decade'])\n",
    "\n",
    "# Step 4: Display Results\n",
    "print(\"Genre Comparison:\\n\", genre_comparison.round(1).head())\n",
    "print(\"\\nDecade Comparison:\\n\", decade_comparison.round(1).head())\n",
    "\n",
    "### Summary results saved:\n",
    "\n",
    "# Step 5: Save Results\n",
    "genre_comparison.to_csv('genre_comparison.csv', index=False)\n",
    "decade_comparison.to_csv('decade_comparison.csv', index=False)\n"
   ]
  },
  {
   "cell_type": "markdown",
   "id": "e8470d12-66e4-4925-acd2-9d7a33b73024",
   "metadata": {},
   "source": [
    "# Other Analysis"
   ]
  },
  {
   "cell_type": "code",
   "execution_count": 484,
   "id": "d7a4a772-6a1c-4fb9-a773-fe63a8979dc3",
   "metadata": {},
   "outputs": [
    {
     "name": "stdout",
     "output_type": "stream",
     "text": [
      "        userId  avg_rating  total_ratings\n",
      "118204  118205         3.3           9254\n",
      "8404      8405         3.2           7515\n",
      "82417    82418         3.5           5646\n",
      "121534  121535         2.8           5520\n",
      "125793  125794         3.8           5491\n"
     ]
    }
   ],
   "source": [
    "# Average ratings by user\n",
    "user_rating_distribution = ratings.groupby('userId').agg(\n",
    "    avg_rating=('rating', 'mean'),\n",
    "    total_ratings=('rating', 'count')\n",
    ").reset_index()\n",
    "\n",
    "# Display top users by total ratings\n",
    "print(user_rating_distribution.sort_values(by='total_ratings', ascending=False).round(1).head())"
   ]
  },
  {
   "cell_type": "code",
   "execution_count": 488,
   "id": "6de9fd9c-2631-44d1-9ad8-040e3c08df9c",
   "metadata": {},
   "outputs": [
    {
     "name": "stdout",
     "output_type": "stream",
     "text": [
      "         genres  avg_rating  total_ratings\n",
      "10    Film-Noir         4.0         216689\n",
      "18          War         3.8        1048618\n",
      "7   Documentary         3.7         244619\n",
      "6         Crime         3.7        3298335\n",
      "8         Drama         3.7        8857853\n",
      "14      Mystery         3.7        1557282\n",
      "12         IMAX         3.7         492366\n",
      "3     Animation         3.6        1140476\n",
      "19      Western         3.6         423714\n",
      "13      Musical         3.6         870915\n"
     ]
    },
    {
     "data": {
      "image/png": "[encoded data removed]",
      "text/plain": [
       "<Figure size 1000x600 with 1 Axes>"
      ]
     },
     "metadata": {},
     "output_type": "display_data"
    }
   ],
   "source": [
    "# Calculate average ratings for each genre\n",
    "top_rated_genres = avg_rating_by_genre.sort_values(by='avg_rating', ascending=False)\n",
    "\n",
    "# Display top genres\n",
    "print(top_rated_genres.round(1).head(10))\n",
    "\n",
    "\n",
    "import matplotlib.pyplot as plt\n",
    "\n",
    "# Select top 10 genres for visualization and explicitly create a copy\n",
    "top_rated_genres_top10 = top_rated_genres.head(10).copy()\n",
    "\n",
    "# Round average ratings for cleaner display\n",
    "top_rated_genres_top10['avg_rating'] = top_rated_genres_top10['avg_rating'].round(1)\n",
    "\n",
    "# Create a bar chart\n",
    "plt.figure(figsize=(10, 6))\n",
    "plt.barh(top_rated_genres_top10['genres'], top_rated_genres_top10['avg_rating'], color='skyblue')\n",
    "plt.xlabel('Average Rating')\n",
    "plt.ylabel('Genres')\n",
    "plt.title('Top 10 Genres by Average Rating')\n",
    "plt.gca().invert_yaxis()  # Invert y-axis to display the highest-rated genre at the top\n",
    "plt.grid(axis='x', linestyle='--', alpha=0.7)\n",
    "\n",
    "# Show the plot\n",
    "plt.tight_layout()\n",
    "plt.show()"
   ]
  },
  {
   "cell_type": "code",
   "execution_count": null,
   "id": "4e9669d6-2a94-4aa2-8c33-5faf7810a7b3",
   "metadata": {},
   "outputs": [],
   "source": []
  }
 ],
 "metadata": {
  "kernelspec": {
   "display_name": "Python 3 (ipykernel)",
   "language": "python",
   "name": "python3"
  },
  "language_info": {
   "codemirror_mode": {
    "name": "ipython",
    "version": 3
   },
   "file_extension": ".py",
   "mimetype": "text/x-python",
   "name": "python",
   "nbconvert_exporter": "python",
   "pygments_lexer": "ipython3",
   "version": "3.11.5"
  }
 },
 "nbformat": 4,
 "nbformat_minor": 5
}
